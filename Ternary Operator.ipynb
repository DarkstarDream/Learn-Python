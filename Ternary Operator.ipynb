{
 "cells": [
  {
   "cell_type": "markdown",
   "source": [
    "## **Ternary operators**\r\n",
    "> Ternary operators also known as conditional expressions are operators that evaluate\r\n",
    " something based on a condition being true or false. It simply allows to test a condition in a single line replacing the multiline if-else making the code compact.\r\n",
    "\r\n",
    "### **Syntax**\r\n",
    "`[on_true] if [expression] else [on_false]`"
   ],
   "metadata": {}
  },
  {
   "cell_type": "markdown",
   "source": [
    "### **Simple example**"
   ],
   "metadata": {}
  },
  {
   "cell_type": "code",
   "execution_count": 2,
   "source": [
    "# output variable will have value of a if a is greater than b else b will be stored\r\n",
    "a, b = 10, 20\r\n",
    "output = a if a > b else b\r\n",
    "print(output)"
   ],
   "outputs": [
    {
     "output_type": "stream",
     "name": "stdout",
     "text": [
      "20\n"
     ]
    }
   ],
   "metadata": {}
  },
  {
   "cell_type": "markdown",
   "source": [
    "### **Direct Method by using tuples**\r\n",
    "\r\n",
    "#### **Syntax** `(if_test_false , if_test_true) [test]`"
   ],
   "metadata": {}
  },
  {
   "cell_type": "code",
   "execution_count": 8,
   "source": [
    "print((a, b) [a > b])"
   ],
   "outputs": [
    {
     "output_type": "stream",
     "name": "stdout",
     "text": [
      "10\n"
     ]
    }
   ],
   "metadata": {}
  },
  {
   "cell_type": "code",
   "execution_count": 12,
   "source": [
    "tupCondition1 = (\"false\", \"true\") [a > b]\r\n",
    "print(tupCondition1)"
   ],
   "outputs": [
    {
     "output_type": "stream",
     "name": "stdout",
     "text": [
      "false\n"
     ]
    }
   ],
   "metadata": {}
  },
  {
   "cell_type": "code",
   "execution_count": 13,
   "source": [
    "tupCondition2 = (b, a) [a < b]\r\n",
    "print(tupCondition2)"
   ],
   "outputs": [
    {
     "output_type": "stream",
     "name": "stdout",
     "text": [
      "10\n"
     ]
    }
   ],
   "metadata": {}
  },
  {
   "cell_type": "code",
   "execution_count": 14,
   "source": [
    "tupCondition3 = (b*2, 0) [a < b]\r\n",
    "print(tupCondition3)"
   ],
   "outputs": [
    {
     "output_type": "stream",
     "name": "stdout",
     "text": [
      "0\n"
     ]
    }
   ],
   "metadata": {}
  },
  {
   "cell_type": "markdown",
   "source": [
    "### **Direct Method by using dictionary**"
   ],
   "metadata": {}
  },
  {
   "cell_type": "code",
   "execution_count": null,
   "source": [
    "print({True})"
   ],
   "outputs": [],
   "metadata": {}
  },
  {
   "cell_type": "code",
   "execution_count": 15,
   "source": [
    "dictCondition1 = {True: \"true\", False: \"false\"} [a > b]\r\n",
    "print(dictCondition1)"
   ],
   "outputs": [
    {
     "output_type": "stream",
     "name": "stdout",
     "text": [
      "false\n"
     ]
    }
   ],
   "metadata": {}
  },
  {
   "cell_type": "code",
   "execution_count": 16,
   "source": [
    "dictCondition2 = {False: \"false\", True: \"true\"} [a > b]\r\n",
    "print(dictCondition2)"
   ],
   "outputs": [
    {
     "output_type": "stream",
     "name": "stdout",
     "text": [
      "false\n"
     ]
    }
   ],
   "metadata": {}
  },
  {
   "cell_type": "markdown",
   "source": [
    "### **Direct Method by using lambda**"
   ],
   "metadata": {}
  },
  {
   "cell_type": "code",
   "execution_count": 13,
   "source": [
    "def anyFun():\r\n",
    "    return b\r\n",
    "# above function is same as\r\n",
    "\r\n",
    "print(anyFun())\r\n",
    "(lambda:b)()"
   ],
   "outputs": [
    {
     "output_type": "stream",
     "name": "stdout",
     "text": [
      "20\n"
     ]
    },
    {
     "output_type": "execute_result",
     "data": {
      "text/plain": [
       "20"
      ]
     },
     "metadata": {},
     "execution_count": 13
    }
   ],
   "metadata": {}
  },
  {
   "cell_type": "code",
   "execution_count": 14,
   "source": [
    "print((lambda: b, lambda: a)[a > b]())"
   ],
   "outputs": [
    {
     "output_type": "stream",
     "name": "stdout",
     "text": [
      "20\n"
     ]
    }
   ],
   "metadata": {}
  },
  {
   "cell_type": "markdown",
   "source": [
    "### **NOTE**\r\n",
    "* First the given condition is evaluated (a < b), then either a or b is returned based on the Boolean value returned by the condition\r\n",
    "* Conditional expressions have the lowest priority amongst all Python operations.\r\n",
    "* [source](https://www.geeksforgeeks.org/ternary-operator-in-python/?ref=lbp)\r\n",
    "\r\n",
    "> The only drawback of this method is that `on_true` must not be zero or False. If this happens `on_false` will be evaluated always. The reason for that is if expression is true, the interpreter will check for the `on_true`, if that will be zero or false, that will force the interpreter to check for `on_false` to give the final result of whole expression.\r\n"
   ],
   "metadata": {}
  },
  {
   "cell_type": "markdown",
   "source": [],
   "metadata": {}
  }
 ],
 "metadata": {
  "orig_nbformat": 4,
  "language_info": {
   "name": "python"
  }
 },
 "nbformat": 4,
 "nbformat_minor": 2
}