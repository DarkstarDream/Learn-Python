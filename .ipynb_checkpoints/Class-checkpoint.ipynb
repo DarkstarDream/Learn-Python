{
 "cells": [
  {
   "cell_type": "markdown",
   "source": [
    "## **Class**\r\n",
    "Before building any object we first create a blueprint of it which represents all aspects of that object and helps us creating more simmilar object with that. \r\n",
    "\r\n",
    "So simmilary in python everything is an object and every object has certain properties and behaviours. We call these properties as `attributes` and these behaviours as `method`. To create these objects we create a class of it."
   ],
   "metadata": {}
  },
  {
   "cell_type": "code",
   "execution_count": 9,
   "source": [
    "# creating a dog class\r\n",
    "class Dog:\r\n",
    "    def __init__(self, name):\r\n",
    "        self.name = name\r\n",
    "\r\n",
    "    def bark(self):\r\n",
    "        print(\"I am barking!\")\r\n",
    "# creating a object for dog class\r\n",
    "pet = Dog('doggy')\r\n",
    "pet.bark()"
   ],
   "outputs": [
    {
     "output_type": "stream",
     "name": "stdout",
     "text": [
      "I am barking!\n"
     ]
    }
   ],
   "metadata": {}
  },
  {
   "cell_type": "markdown",
   "source": [
    "```\r\n",
    "  _________ This is used to create class\r\n",
    "  ↓\r\n",
    "class Dog: ←---------------- Here Dog is class name\r\n",
    "     ________________ This is constructor which intialize attribute to our object. \r\n",
    "    |                  It is  automatically called once for every created object\r\n",
    "    |               ____________________ This is automatically added to constructor which represent the created object itself\r\n",
    "    |               |     ______________________ This is the parameter of the object for its attribute.               \r\n",
    "   _↓______________ ↓  _ ↓ ___         \r\n",
    "  | def __init__(self, name): |\r\n",
    "  |     self.name = name  ←------------------- This is where and how we create attribute of a class\r\n",
    "  |___________________________|\r\n",
    "          __________________________________________ This is the method or behaviour of an object\r\n",
    "   _______↓___________________        \r\n",
    "  | def bark(self):           |\r\n",
    "  |     print('I am barking') | \r\n",
    "  |___________________________|\r\n",
    "\r\n",
    "pet = Dog('doggy') ←----------------------------This is how we create and object of a class\r\n",
    "pet.bark()  ←---------------------------- And this is how we call any method of a class\r\n",
    "```"
   ],
   "metadata": {}
  },
  {
   "cell_type": "code",
   "execution_count": 15,
   "source": [
    "# demonstration of self keyword\r\n",
    "class human:\r\n",
    "    def run(self):\r\n",
    "        print('Human is running')\r\n",
    "\r\n",
    "# creating object for class human\r\n",
    "pinku = human()\r\n",
    "\r\n",
    "# now if we want to call the run function we need to call human class\r\n",
    "# and tell it, that for which object we want it call as an argument\r\n",
    "\r\n",
    "human.run(pinku)"
   ],
   "outputs": [
    {
     "output_type": "stream",
     "name": "stdout",
     "text": [
      "Human is running\n"
     ]
    }
   ],
   "metadata": {}
  },
  {
   "cell_type": "markdown",
   "source": [
    "### **Classes and Object**"
   ],
   "metadata": {}
  },
  {
   "cell_type": "code",
   "execution_count": 18,
   "source": [
    "# This is our class\r\n",
    "class car:\r\n",
    "    def about(self):\r\n",
    "        print(\"BMW, Rs. 17lakh\")\r\n",
    "\r\n",
    "# This is our object of class car\r\n",
    "a = car()\r\n",
    "b = car()\r\n",
    "\r\n",
    "# there is two way of calling car method \r\n",
    "\r\n",
    "# 1. manually passing object\r\n",
    "car.about(a) # here we want to know about the car 'a' so we passed it about function as object\r\n",
    "car.about(b) # here we want to know about the car 'b' so we passed it about function as object\r\n",
    "\r\n",
    "# 2. automaticalling passing object\r\n",
    "a.about() # Here car 'a' called the about method so it will be automatically passed as an argument\r\n",
    "b.about() # Here car 'b' called the about method so it will be automatically passed as an argument"
   ],
   "outputs": [
    {
     "output_type": "stream",
     "name": "stdout",
     "text": [
      "BMW, Rs. 17lakh\n",
      "BMW, Rs. 17lakh\n",
      "BMW, Rs. 17lakh\n",
      "BMW, Rs. 17lakh\n"
     ]
    }
   ],
   "metadata": {}
  },
  {
   "cell_type": "markdown",
   "source": [
    "### **`__init__ method` (constructor)**\r\n",
    "Above we saw every new object had same values, so how can we create unique values of each object as in in reald world every object have certain attributes right?. \r\n",
    "\r\n",
    "In python class we can also define that using `__init__` function which is a constructor that helps initalize variables for our object. It get automatically executed when we create any object. For every object it get executed once."
   ],
   "metadata": {}
  },
  {
   "cell_type": "code",
   "execution_count": 20,
   "source": [
    "class computer:\r\n",
    "    def __init__(self, brand, ram, storage):\r\n",
    "        self.brand = brand\r\n",
    "        self.ram = ram\r\n",
    "        self.storage = storage\r\n",
    "\r\n",
    "    def config(self):\r\n",
    "        print('The configuration of this system is', self.ram, self.storage)\r\n",
    "\r\n",
    "a = computer('HP', '4GB', '1TB')\r\n",
    "b = computer('Dell', '12GB', '1TB')\r\n",
    "\r\n",
    "print(a.ram)\r\n",
    "print(b.storage)\r\n",
    "\r\n",
    "a.config()\r\n",
    "b.config()"
   ],
   "outputs": [
    {
     "output_type": "stream",
     "name": "stdout",
     "text": [
      "4GB\n",
      "1TB\n",
      "The configuration of this system is 4GB 1TB\n",
      "The configuration of this system is 12GB 1TB\n"
     ]
    }
   ],
   "metadata": {}
  },
  {
   "cell_type": "markdown",
   "source": [
    "### **Types of Variable**\r\n",
    "In python class we have two variable\r\n",
    "* **Class variables** (static variable)\r\n",
    "    > Class variables are one which can be not modified by the instance of a class and which is same for all the instance. It can be accessed using both and instance but can only be changed using class\r\n",
    "* **Instance Variable**\r\n",
    "    > Instance variable on the other hand is a object specific variable. For every object there can be unique variable. These variable can be changed for each object.\r\n"
   ],
   "metadata": {}
  },
  {
   "cell_type": "code",
   "execution_count": 25,
   "source": [
    "class computer:\r\n",
    "    \r\n",
    "    type = 'laptop' # this is a class variable\r\n",
    "\r\n",
    "    def __init__(self, brand, ram, storage):\r\n",
    "        self.brand = brand\r\n",
    "        self.ram = ram\r\n",
    "        self.storage = storage\r\n",
    "\r\n",
    "    def config(self):\r\n",
    "        print('The configuration of this system is', self.brand, self.type, self.ram, self.storage)\r\n",
    "\r\n",
    "a = computer('HP', '4GB', '1TB')\r\n",
    "b = computer('Dell', '12GB', '1TB')\r\n",
    "print(a.config())\r\n",
    "\r\n",
    "# Changing instance variable\r\n",
    "a.brand = \"apple\" \r\n",
    "a.config()\r\n",
    "\r\n",
    "# changing class variable \r\n",
    "computer.type = 'Desktop'\r\n",
    "\r\n",
    "a.config()"
   ],
   "outputs": [
    {
     "output_type": "stream",
     "name": "stdout",
     "text": [
      "The configuration of this system is HP laptop 4GB 1TB\n",
      "None\n",
      "The configuration of this system is apple laptop 4GB 1TB\n",
      "The configuration of this system is apple Desktop 4GB 1TB\n"
     ]
    }
   ],
   "metadata": {}
  },
  {
   "cell_type": "markdown",
   "source": [
    "### **Types of Methods**\r\n",
    "We have three types of Methods in class\r\n",
    "* **Instance Method** --> Use object attribtute\r\n",
    "    * **Accessor Method** (getter) Only fecthes obj attribute\r\n",
    "    * **Mutator Methods** (setter) Only sets the value of obj\r\n",
    "* **Class Method** Uses class variable\r\n",
    "* **Static Method** Don't use class or obj variable"
   ],
   "metadata": {}
  },
  {
   "cell_type": "markdown",
   "source": [
    "### **Instance Method**"
   ],
   "metadata": {}
  },
  {
   "cell_type": "code",
   "execution_count": 29,
   "source": [
    "class student:\r\n",
    "    \r\n",
    "    school = \"ABC\"  # class variable\r\n",
    "\r\n",
    "    # constructor (instance variable)\r\n",
    "    def __init__(self, marks1, marks2):\r\n",
    "        self.marks1 = marks1 \r\n",
    "        self.marks2 = marks2\r\n",
    "\r\n",
    "    # instance method\r\n",
    "    def avg(self):\r\n",
    "        return (self.marks1 + self.marks2)/2\r\n",
    "\r\n",
    "    # getter\r\n",
    "    def get_marks1(self):\r\n",
    "        return self.marks1\r\n",
    "    \r\n",
    "    # getter\r\n",
    "    def get_marks2(self):\r\n",
    "        return self.marks2\r\n",
    "\r\n",
    "    # setter\r\n",
    "    def set_marks1(self, value):\r\n",
    "        self.marks1 = self.marks1\r\n",
    "    \r\n",
    "    # setter\r\n",
    "    def set_marks2(self, value):\r\n",
    "        self.marks1 = self.marks1\r\n",
    "\r\n",
    "    # class method\r\n",
    "    @classmethod  # <---- we have to use classmethod decorator for class method\r\n",
    "    def getSchool(cls): # <-- for class method we have to pass cls as an argument\r\n",
    "        return cls.school\r\n",
    "\r\n",
    "    # static method\r\n",
    "    @staticmethod # <---- we have to use staticmethod decorator for static method\r\n",
    "    def noOperation(): # <-- we don't use class or instance attributes\r\n",
    "        print(\"Hello I'm a static method\")\r\n",
    "\r\n",
    "    # static is a class method and useful when performing any operation which does\r\n",
    "    # requires cls and self as parameter or may uses the obj of other class.\r\n",
    "\r\n",
    "a = student(80, 90)\r\n",
    "\r\n",
    "# instance method\r\n",
    "print(a.avg())\r\n",
    "print(a.get_marks1())\r\n",
    "a.set_marks1 = 99\r\n",
    "print(a.get_marks1())\r\n",
    "\r\n",
    "\r\n",
    "# class method\r\n",
    "print(student.getSchool())\r\n",
    "\r\n",
    "# static method\r\n",
    "print(student.noOperation())"
   ],
   "outputs": [
    {
     "output_type": "stream",
     "name": "stdout",
     "text": [
      "85.0\n",
      "80\n",
      "80\n",
      "ABC\n",
      "Hello I'm a static method\n",
      "None\n"
     ]
    }
   ],
   "metadata": {}
  },
  {
   "cell_type": "markdown",
   "source": [
    "### **Nested Class**\r\n",
    "we create class inside of class, these class object can be created either inside of the class or outside of the class. However creating nested class is not recommended."
   ],
   "metadata": {}
  },
  {
   "cell_type": "code",
   "execution_count": 34,
   "source": [
    "class human:\r\n",
    "    def __init__(self, name, age, company_name, salary):\r\n",
    "        self.name = name\r\n",
    "        self.age = age\r\n",
    "        self.job = self.Job(company_name, salary) # creating object of inner class\r\n",
    "\r\n",
    "    # suppose we have method which shows all the attribute of human\r\n",
    "    def show(self):\r\n",
    "        return (self.name, self.age, self.job.show())\r\n",
    "\r\n",
    "    # inner function\r\n",
    "    class Job:\r\n",
    "        def __init__(self, company_name, salary):\r\n",
    "            self.company_name = company_name\r\n",
    "            self.salary = salary\r\n",
    "        \r\n",
    "        def show(self):\r\n",
    "            return (self.company_name, self.salary)\r\n",
    "    \r\n",
    "a = human('Karan', 28, \"TATA\", 200000)\r\n",
    "a.show()\r\n",
    "\r\n",
    "# calling nested class from outside of function\r\n",
    "b = human.Job(\"Tata\", 300008954)\r\n",
    "b.show()"
   ],
   "outputs": [
    {
     "output_type": "execute_result",
     "data": {
      "text/plain": [
       "('Tata', 300008954)"
      ]
     },
     "metadata": {},
     "execution_count": 34
    }
   ],
   "metadata": {}
  },
  {
   "cell_type": "markdown",
   "source": [
    "### **Class Inheritance**\r\n",
    "Class inheritance is one of important feature of class. Through inheritance one class can make use of other class attributes and method. The goal of inheritance is to reduce the code rewriting. We have three types of class inheritance\r\n",
    "* **Single Level Inheritance** <br>\r\n",
    "   ` A -> B `\r\n",
    "* **Multi-Level Inheritance** <br>\r\n",
    "    `A -> B -> C`\r\n",
    "* **Multiple Inheritance**\r\n",
    "   ```\r\n",
    "    A___B\r\n",
    "      ↓\r\n",
    "      C\r\n",
    "    ```"
   ],
   "metadata": {}
  },
  {
   "cell_type": "code",
   "execution_count": 37,
   "source": [
    "# class\r\n",
    "class A:\r\n",
    "    def feature1(self):\r\n",
    "        print(\"Feature 1 working\")\r\n",
    "\r\n",
    "    def feature2(self):\r\n",
    "        print(\"Feature 2 working\")\r\n",
    "\r\n",
    "# single level Inheritance\r\n",
    "class B(A):  # <--- Here we are inheriting class A to class B\r\n",
    "    def feature3(self):\r\n",
    "        print(\"Feature 3 working\")\r\n",
    "\r\n",
    "    def feature4(self):\r\n",
    "        print(\"Feature 4 working\")\r\n",
    "\r\n",
    "# Now we can access all feature of class A in class B\r\n",
    "a = B()\r\n",
    "a.feature1() # feature from class A\r\n",
    "a.feature4() # feature from class B"
   ],
   "outputs": [
    {
     "output_type": "stream",
     "name": "stdout",
     "text": [
      "Feature 1 working\n",
      "Feature 4 working\n"
     ]
    }
   ],
   "metadata": {}
  },
  {
   "cell_type": "code",
   "execution_count": 38,
   "source": [
    "# Multi Level Inheritance\r\n",
    "class C(B): # <-- Here we are inheriting from a inherited class\r\n",
    "    def feature5(self):\r\n",
    "        print(\"Feature 5 working\")\r\n",
    "\r\n",
    "    def feature6(self):\r\n",
    "        print(\"Feature 6 working\")\r\n",
    "\r\n",
    "# now we can use all feature of class A, B, and C in C\r\n",
    "b = C()\r\n",
    "b.feature1() # from class A\r\n",
    "b.feature4() # from class A\r\n",
    "b.feature6() # from class A"
   ],
   "outputs": [
    {
     "output_type": "stream",
     "name": "stdout",
     "text": [
      "Feature 1 working\n",
      "Feature 4 working\n",
      "Feature 6 working\n"
     ]
    }
   ],
   "metadata": {}
  },
  {
   "cell_type": "code",
   "execution_count": 39,
   "source": [
    "# Multiple inheritance\r\n",
    "class D:\r\n",
    "    def feature7(self):\r\n",
    "        print(\"Feature 7 working\")\r\n",
    "\r\n",
    "    def feature8(self):\r\n",
    "        print(\"Feature 8 working\")\r\n",
    "\r\n",
    "# we will inherit class A and Class D\r\n",
    "class E(A, D):\r\n",
    "    def feature9(self):\r\n",
    "        print(\"Feature 9 working\")\r\n",
    "\r\n",
    "# Now we can use all feature of class A and D along with available feature of class E itself\r\n",
    "c = E()\r\n",
    "c.feature1() # from class A\r\n",
    "c.feature7() # from class D\r\n",
    "c.feature9() # from class E"
   ],
   "outputs": [
    {
     "output_type": "stream",
     "name": "stdout",
     "text": [
      "Feature 1 working\n",
      "Feature 7 working\n",
      "Feature 9 working\n"
     ]
    }
   ],
   "metadata": {}
  },
  {
   "cell_type": "markdown",
   "source": [
    "### **Constructor in Inheritance**\r\n",
    "**Single/Multi Level**\r\n",
    "> If a class is inherited from other class and don't have it's own constructor then it will use the constructor of its parent class or else it will use its own constructor. However if the inherited class has already its constructor and it want to use the constructor of its parent class then it can use it using `super().__init__()` function.\r\n",
    "\r\n",
    "**Multilpe**\r\n",
    "> In multiple inheritance if a class don't have its own constructor then it will use the constructor of the first parent class for example if a class inherited two class `(A, B)` then it will have the constructor of `B` class. If the child class already have its own constructor then it will use it own, however it can use its parent class constructor as well."
   ],
   "metadata": {}
  },
  {
   "cell_type": "code",
   "execution_count": 43,
   "source": [
    "# constructor in Inheritance\r\n",
    "class A:\r\n",
    "    def __init__(self):\r\n",
    "        print(\"Constructor of Class A\")\r\n",
    "\r\n",
    "    def feature1(self):\r\n",
    "        print(\"Feature 1 working\")\r\n",
    "\r\n",
    "# single level Inheritance\r\n",
    "class B(A):\r\n",
    "    def feature2(self):\r\n",
    "        print(\"Feature 2 working\")\r\n",
    "\r\n",
    "\r\n",
    "class C(A):  \r\n",
    "    def __init__(self):\r\n",
    "        print(\"Constructor of Class B\")\r\n",
    "        print(super().__init__())  # calling parent class constructor\r\n",
    "\r\n",
    "    def feature3(self):\r\n",
    "        print(\"Feature 3 working\")\r\n",
    "\r\n",
    "\r\n",
    "a = B()  # class B don't have it's own constructor so it will output class A's constructor\r\n",
    "print('-'*10)\r\n",
    "b = C()  # class C have it's own constructor so it will first output its own constructor then A's constructor"
   ],
   "outputs": [
    {
     "output_type": "stream",
     "name": "stdout",
     "text": [
      "Constructor of Class A\n",
      "----------\n",
      "Constructor of Class B\n",
      "Constructor of Class A\n",
      "None\n"
     ]
    }
   ],
   "metadata": {}
  },
  {
   "cell_type": "code",
   "execution_count": 45,
   "source": [
    "# Multi Level Inheritance\r\n",
    "class D(B):\r\n",
    "    def feature4(self):\r\n",
    "        print(\"Feature 4 working\")\r\n",
    "\r\n",
    "class E(B):\r\n",
    "    def __init__(self):\r\n",
    "        print('Constructor of Class E')\r\n",
    "\r\n",
    "    def feature5(self):\r\n",
    "        print(\"Feature 5 working\")\r\n",
    "\r\n",
    "class F(C):\r\n",
    "    def __init__(self):\r\n",
    "        print('Constructor of Class F')\r\n",
    "\r\n",
    "    def feature6(self):\r\n",
    "        print(\"Feature 6 working\")\r\n",
    "\r\n",
    "a = D() # class D and its parent class B don't have its own constructor\r\n",
    "b = E() # class E don't have its constructor but its parent class B has\r\n",
    "c = F() # class F and C both have its constructor"
   ],
   "outputs": [
    {
     "output_type": "stream",
     "name": "stdout",
     "text": [
      "Constructor of Class A\n",
      "Constructor of Class E\n",
      "Constructor of Class F\n"
     ]
    }
   ],
   "metadata": {}
  },
  {
   "cell_type": "code",
   "execution_count": 46,
   "source": [
    "# Multiple inheritance\r\n",
    "class H:\r\n",
    "    def __init__(self):\r\n",
    "        print(\"constructor of class H\")\r\n",
    "\r\n",
    "    def feature7(self):\r\n",
    "        print(\"Feature 7 working\")\r\n",
    "\r\n",
    "class I(A, H):\r\n",
    "    def feature9(self):\r\n",
    "        print(\"Feature 9 working\")\r\n",
    "\r\n",
    "class J(A, H):\r\n",
    "    def __init__(self):\r\n",
    "        print(\"constructor of class J\")\r\n",
    "\r\n",
    "    def feature9(self):\r\n",
    "        print(\"Feature 9 working\")\r\n",
    "\r\n",
    "a = I() # This Multi-Inherited class don't have any constructor\r\n",
    "b = H() # This Multi-Inherited class don't have any constructor"
   ],
   "outputs": [
    {
     "output_type": "stream",
     "name": "stdout",
     "text": [
      "Constructor of Class A\n",
      "constructor of class H\n"
     ]
    }
   ],
   "metadata": {}
  },
  {
   "cell_type": "markdown",
   "source": [
    "#### **Passing Argument to base class from derived class**"
   ],
   "metadata": {}
  },
  {
   "cell_type": "code",
   "execution_count": 10,
   "source": [
    "class n:\r\n",
    "    def __init__(self, name):\r\n",
    "        self.name = name\r\n",
    "        print(self.name)\r\n",
    "\r\n",
    "class m(n):\r\n",
    "    def __init__(self, name, age):\r\n",
    "        self.age = age \r\n",
    "        self.name = name\r\n",
    "        print(super(m, self).__init__(name))\r\n",
    "\r\n",
    "a = m(\"james\",18)"
   ],
   "outputs": [
    {
     "output_type": "stream",
     "name": "stdout",
     "text": [
      "james\n",
      "None\n"
     ]
    }
   ],
   "metadata": {}
  },
  {
   "cell_type": "code",
   "execution_count": 36,
   "source": [
    "class xo:\r\n",
    "    def __init__(self, anything):\r\n",
    "        self.anything = anything\r\n",
    "\r\n",
    "class ox(xo):\r\n",
    "    def __init__(self, anything, nothing):\r\n",
    "        super().__init__(anything)\r\n",
    "        self.nothing = nothing\r\n",
    "\r\n",
    "bn = ox(56, 97)\r\n",
    "print(bn.anything)"
   ],
   "outputs": [
    {
     "output_type": "stream",
     "name": "stdout",
     "text": [
      "56\n"
     ]
    }
   ],
   "metadata": {}
  },
  {
   "cell_type": "markdown",
   "source": [
    "### **Polymorphism**\r\n",
    "The word polymorphism means having many forms. In programming, polymorphism means same function name (but different signatures) being uses for different types. For example the use of a single type entity (method, operator or object) to represent different types in different scenarios.\r\n",
    "\r\n",
    "**Polymorphism in addition operator** <br>\r\n",
    "We know that the `+` operator is used extensively in Python programs. But, it does not have a single usage.\r\n",
    "For integer data types, `+` operator is used to perform arithmetic addition operation. While for string data types, `+` operator is used to perform concatenation.\r\n",
    "\r\n",
    "```python3\r\n",
    "# use of + with int data types\r\n",
    "num1 = 1\r\n",
    "num2 = 2\r\n",
    "print(num1+num2)\r\n",
    "\r\n",
    "# use of + with str data types\r\n",
    "str1 = \"Python\"\r\n",
    "str2 = \"Programming\"\r\n",
    "print(str1+\" \"+str2)\r\n",
    "```\r\n",
    "\r\n",
    "**Example 2: Polymorphic len() function** <br>\r\n",
    "There are some functions in Python which are compatible to run with multiple data types. One such function is the len() function. It can run with many data types in Python. <br>\r\n",
    "<img src=\"https://cdn.programiz.com/sites/tutorial2program/files/func-polymorphism.png\" width=\"300\" height=\"200\"> \r\n",
    "\r\n",
    "```python3\r\n",
    "print(len(\"Programiz\"))\r\n",
    "print(len([\"Python\", \"Java\", \"C\"]))\r\n",
    "print(len({\"Name\": \"John\", \"Address\": \"Nepal\"}))\r\n",
    "```\r\n",
    "\r\n",
    "**There are 4 ways to implement Polymorphism in python**\r\n",
    "* Duck Typing\r\n",
    "* Operator Overloading\r\n",
    "* Method Overloading\r\n",
    "* Method Overriding\r\n"
   ],
   "metadata": {}
  },
  {
   "cell_type": "code",
   "execution_count": 14,
   "source": [
    "# According to duck typing, if a bird looks like a duck, swims like a duck and quacks like a duck then it is a duck\r\n",
    "# so if we have two function and both does the same task that is they have same method then they are same\r\n",
    "\r\n",
    "class Pycharm:\r\n",
    "    def execute(self):\r\n",
    "        print('compiling')\r\n",
    "        print('Running')\r\n",
    "\r\n",
    "class MyEditor:\r\n",
    "    def execute(self):\r\n",
    "        print('spell check')\r\n",
    "        print('convention check')\r\n",
    "        print('compiling')\r\n",
    "        print('running')\r\n",
    "\r\n",
    "class Laptop:\r\n",
    "    @staticmethod\r\n",
    "    def code(ide):\r\n",
    "        print(ide.execute())\r\n",
    "\r\n",
    "ide1 = Pycharm()\r\n",
    "ide2 = MyEditor()\r\n",
    "\r\n",
    "# so here class Pycharm and MyEditor both have same method execute so both are same and we can pass both of them to class laptop\r\n",
    "lap = Laptop()\r\n",
    "lap.code(ide1)\r\n",
    "print('--'*10)\r\n",
    "lap.code(ide2)"
   ],
   "outputs": [
    {
     "output_type": "stream",
     "name": "stdout",
     "text": [
      "compiling\n",
      "Running\n",
      "None\n",
      "--------------------\n",
      "spell check\n",
      "convention check\n",
      "compiling\n",
      "running\n",
      "None\n"
     ]
    }
   ],
   "metadata": {}
  },
  {
   "cell_type": "markdown",
   "source": [
    "### **Operator Overloading**\r\n",
    "Operator overloading is changing the behaviour of existing operator (+, -, /, %, etc.). For example `+` operator with integer values add numbers while same operator with string values concat the values, so this is the example of operator overloading. This happens because this method is defined in both `str` and `int` class.\r\n",
    "\r\n",
    "We can also define these methods in our class's method using magic method. Magic methods are those which starts and ends with double underscore."
   ],
   "metadata": {}
  },
  {
   "cell_type": "code",
   "execution_count": 27,
   "source": [
    "class student:\r\n",
    "    def __init__(self, m1, m2):\r\n",
    "        self.m1 = m1\r\n",
    "        self.m2 = m2\r\n",
    "\r\n",
    "    # magic method\r\n",
    "    def __add__(self, other):\r\n",
    "        m1 = self.m1 + other.m1\r\n",
    "        m2 = self.m2 + other.m2\r\n",
    "        return (m1, m2)\r\n",
    "\r\n",
    "    # greater than magic method \r\n",
    "    def __gt__(self, other):\r\n",
    "        r1 = self.m1 + other.m1\r\n",
    "        r2 = self.m2 + other.m2\r\n",
    "\r\n",
    "        result = (False, True)[r1> r2]\r\n",
    "        return result\r\n",
    "\r\n",
    "st1 = student(54, 56)\r\n",
    "st2 = student(41, 98)\r\n",
    "\r\n",
    "s3 = st1 + st2\r\n",
    "print(s3)\r\n",
    "\r\n",
    "s4 = st1 > st2\r\n",
    "print(s4)"
   ],
   "outputs": [
    {
     "output_type": "stream",
     "name": "stdout",
     "text": [
      "(95, 154)\n",
      "False\n"
     ]
    }
   ],
   "metadata": {}
  },
  {
   "cell_type": "markdown",
   "source": [
    "### **Method Overloading**\r\n",
    "Method overloading is a concept where method of same name with different number of parameter can be present in same class. Like this:\r\n",
    "```\r\n",
    "Student:\r\n",
    "    def average(a, b):\r\n",
    "    def average(a, b, c)\r\n",
    "```\r\n",
    "This feature is present in oops language like `C++`, `Java` etc. Unfourtanetly this is not available in python but we can use this feature by defining `default parameter` or `*args or **krgs` in a function. \r\n"
   ],
   "metadata": {}
  },
  {
   "cell_type": "code",
   "execution_count": 28,
   "source": [
    "class student:\r\n",
    "    def __init__(self, m1, m2):\r\n",
    "        self.m1 = m1\r\n",
    "        self.m2 = m2\r\n",
    "    \r\n",
    "    # this function will work for 1, 2 or 3 arguments (method overloading)\r\n",
    "    def sum(self, a = None, b = None, c = None):\r\n",
    "        s = 0\r\n",
    "        if a != None and b != None and c != None:\r\n",
    "            s = a+b+c\r\n",
    "        elif a != None and b != None:\r\n",
    "            s = a+b\r\n",
    "        else:\r\n",
    "            s = a\r\n",
    "\r\n",
    "        return s\r\n",
    "\r\n",
    "s1 = student(56, 96)\r\n",
    "print(s1.sum(12))\r\n",
    "print(s1.sum(12, 54))\r\n",
    "print(s1.sum(12, 54, 67))"
   ],
   "outputs": [
    {
     "output_type": "stream",
     "name": "stdout",
     "text": [
      "12\n",
      "66\n",
      "133\n"
     ]
    }
   ],
   "metadata": {}
  },
  {
   "cell_type": "markdown",
   "source": [
    "### **Method Overriding**\r\n",
    "Method overriding is a concept where we modify the behaviour of a method of parent class in child class, by redefining it"
   ],
   "metadata": {}
  },
  {
   "cell_type": "code",
   "execution_count": 29,
   "source": [
    "class parent:\r\n",
    "    def show(self):\r\n",
    "        print('in A show')\r\n",
    "\r\n",
    "class child(parent):\r\n",
    "\r\n",
    "    # we are overriding show method of parent class\r\n",
    "    def show(self):\r\n",
    "        print('in B show')\r\n",
    "\r\n",
    "eg = child()\r\n",
    "eg.show()"
   ],
   "outputs": [
    {
     "output_type": "stream",
     "name": "stdout",
     "text": [
      "in B show\n"
     ]
    }
   ],
   "metadata": {}
  },
  {
   "cell_type": "markdown",
   "source": [
    "### **Abstraction and Encapsulation**\r\n",
    "**Abstraction**: Hiding internal details and showing functionality only. Abstraction focus on what the object does instead of how it does. It provides generalized view of classes. Python doesn't have direct method to implement abstraction however there is a library `abc` which helps us in achieving abstraction.\r\n",
    "> An abstract class can be considered as a blueprint for other classes. It allows you to create a set of methods that must be created within any child classes built from the abstract class. A class which contains one or more abstract methods is called an abstract class. An abstract method is a method that has a declaration but does not have an implementation. While we are designing large functional units we use an abstract class. When we want to provide a common interface for different implementations of a component, we use an abstract class. \r\n",
    "\r\n",
    "\r\n",
    "**Encapsulation**: Wrapping code and data together into a single unit. Class is an example of encapsulation, because it wraps the method and property. And those method and property are only accessable by it's class member. In python we don't have any method for achieving encapsulation however we can use double underscore convention to achieve this\r\n",
    "\r\n",
    "<br>\r\n",
    "<img src=\"https://i.stack.imgur.com/07dXi.png\" width=\"500\" height=\"400\">"
   ],
   "metadata": {}
  },
  {
   "cell_type": "code",
   "execution_count": 77,
   "source": [
    "# Encapsulation \r\n",
    "\r\n",
    "class example:\r\n",
    "    def __init__(self, name, age):\r\n",
    "        self.name = name\r\n",
    "        self.__age = age\r\n",
    "    \r\n",
    "    # private method\r\n",
    "    def __secretMethod(self):\r\n",
    "        print(self.__age + 10)\r\n",
    "\r\n",
    "    # public method\r\n",
    "    def publicmethod(self):\r\n",
    "        print(self.__age)\r\n",
    "\r\n",
    "a = example('Karan', 28)\r\n",
    "\r\n",
    "# # if we try to access it's variable\r\n",
    "# print(a.name)\r\n",
    "# print(a.__age) # will give error as it is set as private"
   ],
   "outputs": [],
   "metadata": {}
  },
  {
   "cell_type": "code",
   "execution_count": 42,
   "source": [
    "# if we try to access it's method\r\n",
    "a.publicmethod()\r\n",
    "a.__secretMethod()"
   ],
   "outputs": [
    {
     "output_type": "stream",
     "name": "stdout",
     "text": [
      "28\n"
     ]
    },
    {
     "output_type": "error",
     "ename": "AttributeError",
     "evalue": "'example' object has no attribute '__secretMethod'",
     "traceback": [
      "\u001b[1;31m---------------------------------------------------------------------------\u001b[0m",
      "\u001b[1;31mAttributeError\u001b[0m                            Traceback (most recent call last)",
      "\u001b[1;32m<ipython-input-42-587c98afa4bb>\u001b[0m in \u001b[0;36m<module>\u001b[1;34m\u001b[0m\n\u001b[0;32m      1\u001b[0m \u001b[1;31m# if we try to access it's method\u001b[0m\u001b[1;33m\u001b[0m\u001b[1;33m\u001b[0m\u001b[1;33m\u001b[0m\u001b[0m\n\u001b[0;32m      2\u001b[0m \u001b[0ma\u001b[0m\u001b[1;33m.\u001b[0m\u001b[0mpublicmethod\u001b[0m\u001b[1;33m(\u001b[0m\u001b[1;33m)\u001b[0m\u001b[1;33m\u001b[0m\u001b[1;33m\u001b[0m\u001b[0m\n\u001b[1;32m----> 3\u001b[1;33m \u001b[0ma\u001b[0m\u001b[1;33m.\u001b[0m\u001b[0m__secretMethod\u001b[0m\u001b[1;33m(\u001b[0m\u001b[1;33m)\u001b[0m\u001b[1;33m\u001b[0m\u001b[1;33m\u001b[0m\u001b[0m\n\u001b[0m",
      "\u001b[1;31mAttributeError\u001b[0m: 'example' object has no attribute '__secretMethod'"
     ]
    }
   ],
   "metadata": {}
  },
  {
   "cell_type": "code",
   "execution_count": 66,
   "source": [
    "# if we try to access it's attribute in inherited class\r\n",
    "ba = example2('John', 31)\r\n",
    "\r\n",
    "print(ba.name)\r\n",
    "print(ba.__age)"
   ],
   "outputs": [
    {
     "output_type": "stream",
     "name": "stdout",
     "text": [
      "John\n"
     ]
    },
    {
     "output_type": "error",
     "ename": "AttributeError",
     "evalue": "'example2' object has no attribute '__age'",
     "traceback": [
      "\u001b[1;31m---------------------------------------------------------------------------\u001b[0m",
      "\u001b[1;31mAttributeError\u001b[0m                            Traceback (most recent call last)",
      "\u001b[1;32m<ipython-input-66-79c9466e98c7>\u001b[0m in \u001b[0;36m<module>\u001b[1;34m\u001b[0m\n\u001b[0;32m      3\u001b[0m \u001b[1;33m\u001b[0m\u001b[0m\n\u001b[0;32m      4\u001b[0m \u001b[0mprint\u001b[0m\u001b[1;33m(\u001b[0m\u001b[0mba\u001b[0m\u001b[1;33m.\u001b[0m\u001b[0mname\u001b[0m\u001b[1;33m)\u001b[0m\u001b[1;33m\u001b[0m\u001b[1;33m\u001b[0m\u001b[0m\n\u001b[1;32m----> 5\u001b[1;33m \u001b[0mprint\u001b[0m\u001b[1;33m(\u001b[0m\u001b[0mba\u001b[0m\u001b[1;33m.\u001b[0m\u001b[0m__age\u001b[0m\u001b[1;33m)\u001b[0m\u001b[1;33m\u001b[0m\u001b[1;33m\u001b[0m\u001b[0m\n\u001b[0m",
      "\u001b[1;31mAttributeError\u001b[0m: 'example2' object has no attribute '__age'"
     ]
    }
   ],
   "metadata": {}
  },
  {
   "cell_type": "code",
   "execution_count": 78,
   "source": [
    "# if we try to access it's method in inherited class\r\n",
    "class example2(example):\r\n",
    "    def __init__(self, name, age):\r\n",
    "        super().__init__(name, age)\r\n",
    "    def noFun(self):\r\n",
    "        pass\r\n",
    "    \r\n",
    "ba.publicmethod()\r\n",
    "ba.__secretMethod()"
   ],
   "outputs": [
    {
     "output_type": "stream",
     "name": "stdout",
     "text": [
      "31\n"
     ]
    },
    {
     "output_type": "error",
     "ename": "AttributeError",
     "evalue": "'example2' object has no attribute '__secretMethod'",
     "traceback": [
      "\u001b[1;31m---------------------------------------------------------------------------\u001b[0m",
      "\u001b[1;31mAttributeError\u001b[0m                            Traceback (most recent call last)",
      "\u001b[1;32m<ipython-input-78-18ce655e23d7>\u001b[0m in \u001b[0;36m<module>\u001b[1;34m\u001b[0m\n\u001b[0;32m      6\u001b[0m         \u001b[1;32mpass\u001b[0m\u001b[1;33m\u001b[0m\u001b[1;33m\u001b[0m\u001b[0m\n\u001b[0;32m      7\u001b[0m \u001b[0mba\u001b[0m\u001b[1;33m.\u001b[0m\u001b[0mpublicmethod\u001b[0m\u001b[1;33m(\u001b[0m\u001b[1;33m)\u001b[0m\u001b[1;33m\u001b[0m\u001b[1;33m\u001b[0m\u001b[0m\n\u001b[1;32m----> 8\u001b[1;33m \u001b[0mba\u001b[0m\u001b[1;33m.\u001b[0m\u001b[0m__secretMethod\u001b[0m\u001b[1;33m(\u001b[0m\u001b[1;33m)\u001b[0m\u001b[1;33m\u001b[0m\u001b[1;33m\u001b[0m\u001b[0m\n\u001b[0m",
      "\u001b[1;31mAttributeError\u001b[0m: 'example2' object has no attribute '__secretMethod'"
     ]
    }
   ],
   "metadata": {}
  },
  {
   "cell_type": "code",
   "execution_count": 79,
   "source": [
    "# now to achive this we use python name mangling which will give access to class private method and attibutes\r\n",
    "# name mangling is nothing but writing attribute or method name after class name appended with single underscore like this `_className`\r\n",
    "\r\n",
    "print(a._example__age)\r\n",
    "print(ba._example__age)\r\n",
    "\r\n",
    "a._example__secretMethod()\r\n",
    "ba._example__secretMethod() \r\n",
    "\r\n",
    "# for some reason it is not working in jupyter notebook but it will work in script ide"
   ],
   "outputs": [
    {
     "output_type": "stream",
     "name": "stdout",
     "text": [
      "28\n",
      "31\n",
      "38\n"
     ]
    },
    {
     "output_type": "error",
     "ename": "AttributeError",
     "evalue": "'example2' object has no attribute 'age'",
     "traceback": [
      "\u001b[1;31m---------------------------------------------------------------------------\u001b[0m",
      "\u001b[1;31mAttributeError\u001b[0m                            Traceback (most recent call last)",
      "\u001b[1;32m<ipython-input-79-c7fe1d448243>\u001b[0m in \u001b[0;36m<module>\u001b[1;34m\u001b[0m\n\u001b[0;32m      6\u001b[0m \u001b[1;33m\u001b[0m\u001b[0m\n\u001b[0;32m      7\u001b[0m \u001b[0ma\u001b[0m\u001b[1;33m.\u001b[0m\u001b[0m_example__secretMethod\u001b[0m\u001b[1;33m(\u001b[0m\u001b[1;33m)\u001b[0m\u001b[1;33m\u001b[0m\u001b[1;33m\u001b[0m\u001b[0m\n\u001b[1;32m----> 8\u001b[1;33m \u001b[0mba\u001b[0m\u001b[1;33m.\u001b[0m\u001b[0m_example__secretMethod\u001b[0m\u001b[1;33m(\u001b[0m\u001b[1;33m)\u001b[0m\u001b[1;33m\u001b[0m\u001b[1;33m\u001b[0m\u001b[0m\n\u001b[0m",
      "\u001b[1;32m<ipython-input-59-bb963208a50a>\u001b[0m in \u001b[0;36m__secretMethod\u001b[1;34m(self)\u001b[0m\n\u001b[0;32m      8\u001b[0m     \u001b[1;31m# private method\u001b[0m\u001b[1;33m\u001b[0m\u001b[1;33m\u001b[0m\u001b[1;33m\u001b[0m\u001b[0m\n\u001b[0;32m      9\u001b[0m     \u001b[1;32mdef\u001b[0m \u001b[0m__secretMethod\u001b[0m\u001b[1;33m(\u001b[0m\u001b[0mself\u001b[0m\u001b[1;33m)\u001b[0m\u001b[1;33m:\u001b[0m\u001b[1;33m\u001b[0m\u001b[1;33m\u001b[0m\u001b[0m\n\u001b[1;32m---> 10\u001b[1;33m         \u001b[0mprint\u001b[0m\u001b[1;33m(\u001b[0m\u001b[0mself\u001b[0m\u001b[1;33m.\u001b[0m\u001b[0mage\u001b[0m \u001b[1;33m+\u001b[0m \u001b[1;36m10\u001b[0m\u001b[1;33m)\u001b[0m\u001b[1;33m\u001b[0m\u001b[1;33m\u001b[0m\u001b[0m\n\u001b[0m\u001b[0;32m     11\u001b[0m \u001b[1;33m\u001b[0m\u001b[0m\n\u001b[0;32m     12\u001b[0m     \u001b[1;31m# public method\u001b[0m\u001b[1;33m\u001b[0m\u001b[1;33m\u001b[0m\u001b[1;33m\u001b[0m\u001b[0m\n",
      "\u001b[1;31mAttributeError\u001b[0m: 'example2' object has no attribute 'age'"
     ]
    }
   ],
   "metadata": {}
  },
  {
   "cell_type": "code",
   "execution_count": 93,
   "source": [
    "# example of abstraction\r\n",
    "from abc import ABC, abstractmethod\r\n",
    "\r\n",
    "class computer(ABC):\r\n",
    "    @abstractmethod\r\n",
    "    def process(self):\r\n",
    "        pass\r\n",
    "\r\n",
    "# now if we try to create object of computer class then, we will get an error\r\n",
    "c1 = computer()\r\n"
   ],
   "outputs": [
    {
     "output_type": "error",
     "ename": "TypeError",
     "evalue": "Can't instantiate abstract class computer with abstract methods process",
     "traceback": [
      "\u001b[1;31m---------------------------------------------------------------------------\u001b[0m",
      "\u001b[1;31mTypeError\u001b[0m                                 Traceback (most recent call last)",
      "\u001b[1;32m<ipython-input-93-97b5b8e01b97>\u001b[0m in \u001b[0;36m<module>\u001b[1;34m\u001b[0m\n\u001b[0;32m      8\u001b[0m \u001b[1;33m\u001b[0m\u001b[0m\n\u001b[0;32m      9\u001b[0m \u001b[1;31m# now if we try to create object of computer class then, we will get an error\u001b[0m\u001b[1;33m\u001b[0m\u001b[1;33m\u001b[0m\u001b[1;33m\u001b[0m\u001b[0m\n\u001b[1;32m---> 10\u001b[1;33m \u001b[0mc1\u001b[0m \u001b[1;33m=\u001b[0m \u001b[0mcomputer\u001b[0m\u001b[1;33m(\u001b[0m\u001b[1;33m)\u001b[0m\u001b[1;33m\u001b[0m\u001b[1;33m\u001b[0m\u001b[0m\n\u001b[0m",
      "\u001b[1;31mTypeError\u001b[0m: Can't instantiate abstract class computer with abstract methods process"
     ]
    }
   ],
   "metadata": {}
  },
  {
   "cell_type": "code",
   "execution_count": 92,
   "source": [
    "# so how can we use this, if we herit this abstract class then the method used in this have to be defined in child class or else\r\n",
    "# the child class be abstract class as well. So we must define the method used in abstract class.\r\n",
    "class mac(computer):\r\n",
    "    def searching(self):\r\n",
    "        print(\"searching for error in stackoverflow\")\r\n",
    "\r\n",
    "    def process(self):\r\n",
    "        print('processing')\r\n",
    "\r\n",
    "class window(computer):\r\n",
    "    def searching(self):\r\n",
    "        print(\"searching for error in stackoverflow and github\")\r\n",
    "\r\n",
    "# accessing hidden class\r\n",
    "m1 = mac()\r\n",
    "m1.searching()\r\n",
    "\r\n",
    "w1 = window() # will give error\r\n",
    "w1.searching() "
   ],
   "outputs": [
    {
     "output_type": "stream",
     "name": "stdout",
     "text": [
      "searching for error in stackoverflow\n"
     ]
    },
    {
     "output_type": "error",
     "ename": "TypeError",
     "evalue": "Can't instantiate abstract class window with abstract methods process",
     "traceback": [
      "\u001b[1;31m---------------------------------------------------------------------------\u001b[0m",
      "\u001b[1;31mTypeError\u001b[0m                                 Traceback (most recent call last)",
      "\u001b[1;32m<ipython-input-92-17ef3cf1451d>\u001b[0m in \u001b[0;36m<module>\u001b[1;34m\u001b[0m\n\u001b[0;32m     16\u001b[0m \u001b[0mm1\u001b[0m\u001b[1;33m.\u001b[0m\u001b[0msearching\u001b[0m\u001b[1;33m(\u001b[0m\u001b[1;33m)\u001b[0m\u001b[1;33m\u001b[0m\u001b[1;33m\u001b[0m\u001b[0m\n\u001b[0;32m     17\u001b[0m \u001b[1;33m\u001b[0m\u001b[0m\n\u001b[1;32m---> 18\u001b[1;33m \u001b[0mw1\u001b[0m \u001b[1;33m=\u001b[0m \u001b[0mwindow\u001b[0m\u001b[1;33m(\u001b[0m\u001b[1;33m)\u001b[0m \u001b[1;31m# will give error\u001b[0m\u001b[1;33m\u001b[0m\u001b[1;33m\u001b[0m\u001b[0m\n\u001b[0m\u001b[0;32m     19\u001b[0m \u001b[0mw1\u001b[0m\u001b[1;33m.\u001b[0m\u001b[0msearching\u001b[0m\u001b[1;33m(\u001b[0m\u001b[1;33m)\u001b[0m\u001b[1;33m\u001b[0m\u001b[1;33m\u001b[0m\u001b[0m\n",
      "\u001b[1;31mTypeError\u001b[0m: Can't instantiate abstract class window with abstract methods process"
     ]
    }
   ],
   "metadata": {}
  },
  {
   "cell_type": "code",
   "execution_count": null,
   "source": [],
   "outputs": [],
   "metadata": {}
  }
 ],
 "metadata": {
  "orig_nbformat": 4,
  "language_info": {
   "name": "python"
  }
 },
 "nbformat": 4,
 "nbformat_minor": 2
}