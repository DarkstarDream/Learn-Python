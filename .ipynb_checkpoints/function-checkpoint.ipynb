{
 "cells": [
  {
   "cell_type": "markdown",
   "source": [
    "### **Map**\r\n",
    "Map functions takes two arguments a `function` and `iterables`. It applies the function to all the values of the iterable. It then return a map object, which can be converted into iterable.\r\n",
    "\r\n",
    "**Syntax:** `map(fun, iterator)`"
   ],
   "metadata": {}
  },
  {
   "cell_type": "code",
   "execution_count": 22,
   "source": [
    "# map example to add a number to all elements of iterable\r\n",
    "lst1 = [1, 2, 3, 4, 5]\r\n",
    "\r\n",
    "def addi(value):\r\n",
    "    return value+10\r\n",
    "\r\n",
    "output1 = map(addi, lst1)\r\n",
    "print(list(output1))"
   ],
   "outputs": [
    {
     "output_type": "stream",
     "name": "stdout",
     "text": [
      "[11, 12, 13, 14, 15]\n"
     ]
    }
   ],
   "metadata": {}
  },
  {
   "cell_type": "code",
   "execution_count": 18,
   "source": [
    "# we can even use lambda function with map\r\n",
    "output2 = map(lambda x: x+10, lst1)\r\n",
    "print(list(output2))"
   ],
   "outputs": [
    {
     "output_type": "stream",
     "name": "stdout",
     "text": [
      "[11, 12, 13, 14, 15]\n"
     ]
    }
   ],
   "metadata": {}
  },
  {
   "cell_type": "code",
   "execution_count": 19,
   "source": [
    "# adding two list's value\r\n",
    "lst2 = [10, 12, 13, 14, 15]\r\n",
    "output3 = map(lambda x, y: x+y, lst1, lst2)\r\n",
    "print(list(output3))"
   ],
   "outputs": [
    {
     "output_type": "stream",
     "name": "stdout",
     "text": [
      "[11, 14, 16, 18, 20]\n"
     ]
    }
   ],
   "metadata": {}
  },
  {
   "cell_type": "code",
   "execution_count": 24,
   "source": [
    "# adding three list's value\r\n",
    "lst3 = [100, 120, 130, 140, 150]\r\n",
    "output4 = map(lambda x, y, z: x+y+z, lst1, lst2, lst3)\r\n",
    "print(list(output4))"
   ],
   "outputs": [
    {
     "output_type": "stream",
     "name": "stdout",
     "text": [
      "[111, 134, 146, 158, 170]\n"
     ]
    }
   ],
   "metadata": {}
  },
  {
   "cell_type": "code",
   "execution_count": 28,
   "source": [
    "# List of strings\r\n",
    "l = ['sat', 'bat', 'cat', 'mat']\r\n",
    "  \r\n",
    "# map() can listify the list of strings individually\r\n",
    "test = list(map(list, l))\r\n",
    "print(test)"
   ],
   "outputs": [
    {
     "output_type": "stream",
     "name": "stdout",
     "text": [
      "[['s', 'a', 't'], ['b', 'a', 't'], ['c', 'a', 't'], ['m', 'a', 't']]\n"
     ]
    }
   ],
   "metadata": {}
  },
  {
   "cell_type": "markdown",
   "source": [
    "### **Filter**\r\n",
    "Filter is used to filter any iterable. It takes two argument a function and a iterable and it filter all the true values from the iterables according to passed function. The passed function should output result in fashion of True and False.\r\n",
    "\r\n",
    "**Syntax:** `filter(function, iterable)`"
   ],
   "metadata": {}
  },
  {
   "cell_type": "code",
   "execution_count": 30,
   "source": [
    "# example of filter to filter even number from the list\r\n",
    "def even(x):\r\n",
    "    if x%2 == 0:\r\n",
    "        return True\r\n",
    "    else:\r\n",
    "        return False\r\n",
    "\r\n",
    "output5 = filter(even, lst)\r\n",
    "print(list(output5))"
   ],
   "outputs": [
    {
     "output_type": "stream",
     "name": "stdout",
     "text": [
      "[2, 4]\n"
     ]
    }
   ],
   "metadata": {}
  },
  {
   "cell_type": "code",
   "execution_count": 31,
   "source": [
    "# we can also use lambda inside the filter\r\n",
    "output6 = filter(lambda x: True if x%2 == 0 else False, lst)\r\n",
    "print(list(output6))"
   ],
   "outputs": [
    {
     "output_type": "stream",
     "name": "stdout",
     "text": [
      "[2, 4]\n"
     ]
    }
   ],
   "metadata": {}
  },
  {
   "cell_type": "markdown",
   "source": [
    "### **Reduce**\r\n",
    "The reduce function is used to apply the given function to given iterable. It first applies the function to the first two element of the iterable then it applies that function to the output of those two elements and a next elements. The process continues till the last element of the iterable.\r\n",
    "\r\n",
    "> To use `reduce` function we need to import it from the `functools` module\r\n",
    "\r\n",
    "**Syntax:** `module.reduce(func, iterable)`"
   ],
   "metadata": {}
  },
  {
   "cell_type": "code",
   "execution_count": 32,
   "source": [
    "import functools as func\r\n",
    "\r\n",
    "# example of adding all element of the list using reduce\r\n",
    "output7 = func.reduce(lambda x, y: x+y, lst)\r\n",
    "print(output7)"
   ],
   "outputs": [
    {
     "output_type": "stream",
     "name": "stdout",
     "text": [
      "15\n"
     ]
    }
   ],
   "metadata": {}
  },
  {
   "cell_type": "code",
   "execution_count": 33,
   "source": [
    "# we can simmilary do other operation \r\n",
    "import operator as op\r\n",
    "output8 = func.reduce(op.add, lst) # operator.add is sum function\r\n",
    "print(output8)"
   ],
   "outputs": [
    {
     "output_type": "stream",
     "name": "stdout",
     "text": [
      "15\n"
     ]
    }
   ],
   "metadata": {}
  },
  {
   "cell_type": "code",
   "execution_count": 34,
   "source": [
    "output8 = func.reduce(op.mul, lst) # operator.mul is multiplication function\r\n",
    "print(output8) "
   ],
   "outputs": [
    {
     "output_type": "stream",
     "name": "stdout",
     "text": [
      "120\n"
     ]
    }
   ],
   "metadata": {}
  }
 ],
 "metadata": {
  "orig_nbformat": 4,
  "language_info": {
   "name": "python"
  }
 },
 "nbformat": 4,
 "nbformat_minor": 2
}