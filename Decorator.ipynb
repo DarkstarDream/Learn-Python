{
  "nbformat": 4,
  "nbformat_minor": 0,
  "metadata": {
    "colab": {
      "name": "Decorator.ipynb",
      "provenance": [],
      "collapsed_sections": [
        "vZvA1dhdsd8F",
        "n_T6iRwc0RjC",
        "2cXkJEHV2YAA",
        "vaUHyRm768b_",
        "KJezqQTNrjbI"
      ]
    },
    "kernelspec": {
      "name": "python3",
      "display_name": "Python 3"
    },
    "language_info": {
      "name": "python"
    },
    "accelerator": "GPU"
  },
  "cells": [
    {
      "cell_type": "markdown",
      "metadata": {
        "id": "OJHZw10ANg1h"
      },
      "source": [
        "## **What is decorator?**\n",
        "Decorator is one of the coolest features of python, as the name suggests decorator is kind-of for decorating something, which exists previously. Decorator is used for manipulating (adding, removing or modifying features) the pre-existing functions or it’s output. It takes a function as an input, makes some changes and returns it. \n",
        "\n",
        "This quick cheatsheet on Decorator is created by [Buggy Programmer](https://www.buggyprogrammer.com) 🙂you can visit our site by clicking on the [link](https://www.buggyprogrammer.com)\n"
      ]
    },
    {
      "cell_type": "markdown",
      "metadata": {
        "id": "OV7v9v-JNup4"
      },
      "source": [
        "### **1.0 Prerequisites for understanding Decorator** \n"
      ]
    },
    {
      "cell_type": "markdown",
      "metadata": {
        "id": "Ms4EW7B-ZQmz"
      },
      "source": [
        "-----------x---------**Properties of Function** ---------------x----------\n",
        "* Everything in python is considered as an object which includes function and class as well.\n",
        "* Function can be stored in a variable\n",
        "* Function can be passed an an input to other function \n",
        "* Function can be returned as an output from other function"
      ]
    },
    {
      "cell_type": "markdown",
      "metadata": {
        "id": "ToA3W-siTxNT"
      },
      "source": [
        "---\n",
        "Let's first understand about some ultra basic components of a function first\n",
        "\n",
        "---"
      ]
    },
    {
      "cell_type": "code",
      "metadata": {
        "colab": {
          "base_uri": "https://localhost:8080/"
        },
        "id": "cRNQPgJDTvds",
        "outputId": "3b2b5a18-f7b6-4a3b-9146-fef7985fe607"
      },
      "source": [
        "def sum_it(x, y):\n",
        "#          ^  ^\n",
        "#          |  |\n",
        "#          ----------------------------------------------------> This is a parameter which function wants to take from user\n",
        "#               _\n",
        "    sum = x+y #  |\n",
        "    mul = x*y # _| ------------------------> this is where we perform our operation in a function\n",
        "\n",
        "    return sum,mul # and here we finally return our output and our funtion closes \n",
        "\n",
        "# in order to call a function you need to write it's name and add open and close parenthis at end \"()\"\n",
        "# and inside that bracket we pass the parameters a function has\n",
        "\n",
        "# if you just write function name and enter it then it's will output function object\n",
        "\n",
        "print('This is a function object --> ',sum_it)\n",
        "\n",
        "sum_it(5, 6) # ---------------> this is how we call a function\n",
        "#      ^  ^\n",
        "#      |  |\n",
        "#      ----------------------------------------------------> This is our argument which we gives to a function as an input\n",
        "\n",
        "# so, in short parameter are one which function want or it is one which we pass in a function during creating it\n",
        "# and argument are one which user pass to a fuction or it is one which we pass during calling a function"
      ],
      "execution_count": null,
      "outputs": [
        {
          "output_type": "stream",
          "text": [
            "This is a function object -->  <function sum_it at 0x7ff94ccbbd40>\n"
          ],
          "name": "stdout"
        },
        {
          "output_type": "execute_result",
          "data": {
            "text/plain": [
              "(11, 30)"
            ]
          },
          "metadata": {
            "tags": []
          },
          "execution_count": 40
        }
      ]
    },
    {
      "cell_type": "markdown",
      "metadata": {
        "id": "gDd_OOo_PnPc"
      },
      "source": [
        "---\n",
        "Let's understand how we can store a function in a variable\n",
        "\n",
        "---"
      ]
    },
    {
      "cell_type": "code",
      "metadata": {
        "colab": {
          "base_uri": "https://localhost:8080/"
        },
        "id": "kkR7-dZiORXj",
        "outputId": "1baae2d0-fbfb-4c3e-8336-48718e89c8a9"
      },
      "source": [
        "def name(): # ------------------------------------------------------> this is our function\n",
        "   return 'John' # ------------------------------ it's just returning a name (string to be more specific)\n",
        "\n",
        "my_fun = name # ----------------------> this is where we are storing our function object \"name()\" in a variable \"my_fun\". So, now variable \"my_fun\" is a function\n",
        "print(my_fun())  # ------> here we are calling \"my_fun()\" which is same as calling \"name()\""
      ],
      "execution_count": null,
      "outputs": [
        {
          "output_type": "stream",
          "text": [
            "Jhon\n"
          ],
          "name": "stdout"
        }
      ]
    },
    {
      "cell_type": "markdown",
      "metadata": {
        "id": "09fXj_VGP0To"
      },
      "source": [
        "---\n",
        "Let's understand how we can pass a function as an input to another function\n",
        "\n",
        "---"
      ]
    },
    {
      "cell_type": "code",
      "metadata": {
        "colab": {
          "base_uri": "https://localhost:8080/"
        },
        "id": "tNCFngOaQE_2",
        "outputId": "5d244c0e-b825-49b8-c436-ca60df3c0c0b"
      },
      "source": [
        "# Here we have two function \n",
        "def add(x, y): # -----------------------> Addition function\n",
        "   return x+y\n",
        "\n",
        "def sub(x, y): #  ----------------------> subtraction function\n",
        "   return x-y\n",
        "\n",
        "# takes function as an input\n",
        "def math(fun, x, y): # ----------------------> \"x\" and \"y\" is for taking numerical input where we perform our operation while \"fun\" is a for taking a function\n",
        "   return fun(x, y)\n",
        "\n",
        "\n",
        "math(add, 5,4) # -------------> can you see here, our first argument(input) is a function"
      ],
      "execution_count": null,
      "outputs": [
        {
          "output_type": "execute_result",
          "data": {
            "text/plain": [
              "9"
            ]
          },
          "metadata": {
            "tags": []
          },
          "execution_count": 34
        }
      ]
    },
    {
      "cell_type": "markdown",
      "metadata": {
        "id": "ZBCL1gRCR9hj"
      },
      "source": [
        "---\n",
        "Let's understand how we can return a function from another function\n",
        "\n",
        "---"
      ]
    },
    {
      "cell_type": "code",
      "metadata": {
        "colab": {
          "base_uri": "https://localhost:8080/"
        },
        "id": "Ycvl6zZqSIX9",
        "outputId": "033c42b4-76ba-4d23-abac-f6c61e8dd3dc"
      },
      "source": [
        "# this is our function\n",
        "def add(x, y): # -----------------------> Addition function\n",
        "   return x+y\n",
        "\n",
        "# returns a functions\n",
        "def math(fun): # ------------------> this is a function which will take a function as an input and return it\n",
        "    return fun\n",
        "\n",
        "addition = math(add) # -----------> we called math() function with add() function as an input and here it's returned it back\n",
        "addition(5,6) # ----------> lets try to call it"
      ],
      "execution_count": null,
      "outputs": [
        {
          "output_type": "execute_result",
          "data": {
            "text/plain": [
              "11"
            ]
          },
          "metadata": {
            "tags": []
          },
          "execution_count": 37
        }
      ]
    },
    {
      "cell_type": "markdown",
      "metadata": {
        "id": "vZvA1dhdsd8F"
      },
      "source": [
        "### **1.1 Simple Decorator**"
      ]
    },
    {
      "cell_type": "code",
      "metadata": {
        "colab": {
          "base_uri": "https://localhost:8080/",
          "height": 35
        },
        "id": "0-KWMj8fswXI",
        "outputId": "efce179e-2bc4-4081-907b-4b7203d4a660"
      },
      "source": [
        "# this is our simple function which returns a name\n",
        "def i_am():\n",
        "    return 'Bob'\n",
        "i_am()"
      ],
      "execution_count": null,
      "outputs": [
        {
          "output_type": "execute_result",
          "data": {
            "application/vnd.google.colaboratory.intrinsic+json": {
              "type": "string"
            },
            "text/plain": [
              "'Bob'"
            ]
          },
          "metadata": {
            "tags": []
          },
          "execution_count": 6
        }
      ]
    },
    {
      "cell_type": "markdown",
      "metadata": {
        "id": "2J-h7PoWuZe3"
      },
      "source": [
        "---\n",
        "* Now we want to modify it's output and prefix it with 'Mr.' <br/>\n",
        "* so for that we will use a simple decorator\n",
        "---"
      ]
    },
    {
      "cell_type": "code",
      "metadata": {
        "id": "WPGHpX56tG1R"
      },
      "source": [
        "# decorator for prefixing 'Mr.' \n",
        "def mr_decor(func): # -------------------------------------> It will take our original function (i_am) as an input\n",
        "    def inner(): # --------------------------> this is one who is doing our actual job\n",
        "        return 'Mr.'+ func() # --------------> Performing Actual task and returning it\n",
        "    return inner # ----------------------------------------> And it will return inner() function as output"
      ],
      "execution_count": null,
      "outputs": []
    },
    {
      "cell_type": "code",
      "metadata": {
        "colab": {
          "base_uri": "https://localhost:8080/",
          "height": 35
        },
        "id": "CQgHkuxpu_3B",
        "outputId": "a569944f-b348-4864-f2ce-7d9ee2a26dec"
      },
      "source": [
        "# now let's use this decorator on our function\n",
        "\n",
        "decor = mr_decor(i_am) # calling decorator and passing our function's object\n",
        "decor() # decorator returns its inner function and here we are calling that"
      ],
      "execution_count": null,
      "outputs": [
        {
          "output_type": "execute_result",
          "data": {
            "application/vnd.google.colaboratory.intrinsic+json": {
              "type": "string"
            },
            "text/plain": [
              "'Mr.Bob'"
            ]
          },
          "metadata": {
            "tags": []
          },
          "execution_count": 8
        }
      ]
    },
    {
      "cell_type": "markdown",
      "metadata": {
        "id": "1NOUIpQAxsdN"
      },
      "source": [
        "---\n",
        "And Viola! We did it 😀\n",
        "\n",
        "---"
      ]
    },
    {
      "cell_type": "markdown",
      "metadata": {
        "id": "n_T6iRwc0RjC"
      },
      "source": [
        "### **1.2 Using Decorator with \"@\" syntax**"
      ]
    },
    {
      "cell_type": "code",
      "metadata": {
        "colab": {
          "base_uri": "https://localhost:8080/",
          "height": 35
        },
        "id": "XF7TJLux0ZwN",
        "outputId": "7aa3a843-1f47-46e7-9c82-60b35c4f3df7"
      },
      "source": [
        "# this is our simple function which returns a name\n",
        "def i_am():\n",
        "    return 'Bob'\n",
        "i_am()"
      ],
      "execution_count": null,
      "outputs": [
        {
          "output_type": "execute_result",
          "data": {
            "application/vnd.google.colaboratory.intrinsic+json": {
              "type": "string"
            },
            "text/plain": [
              "'Bob'"
            ]
          },
          "metadata": {
            "tags": []
          },
          "execution_count": 10
        }
      ]
    },
    {
      "cell_type": "code",
      "metadata": {
        "id": "SgGSNnJ10lVU"
      },
      "source": [
        "# Our decorator for prefixing 'Mr.' \n",
        "def mr_decor(func):\n",
        "    def inner():\n",
        "        return 'Mr.'+ func()\n",
        "    return inner"
      ],
      "execution_count": null,
      "outputs": []
    },
    {
      "cell_type": "markdown",
      "metadata": {
        "id": "HKQVk2oG0s-a"
      },
      "source": [
        "---\n",
        "So, we already saw how we can call and use decorator right, but do we have a simple way of calling decorator?\n",
        "\n",
        "You bet! Let's see how\n",
        "\n",
        "---"
      ]
    },
    {
      "cell_type": "code",
      "metadata": {
        "colab": {
          "base_uri": "https://localhost:8080/",
          "height": 35
        },
        "id": "FRQSe4xx1dZk",
        "outputId": "8cc754fe-d4fe-4075-a73f-f424c81cf94f"
      },
      "source": [
        "# so instead of calling our decorator we can simply put our decorator name with @ symbol, like this \"@mr_decor\"\n",
        "# above the function we want to apply our decorator, that's it, \n",
        "@mr_decor # --------------> this is where we put \"@mr_decor\"\n",
        "def i_am():\n",
        "    return 'Bob'\n",
        "i_am()\n",
        "\n",
        "# and now we don't need to call our decorator, we can just call our function\n",
        "i_am()"
      ],
      "execution_count": null,
      "outputs": [
        {
          "output_type": "execute_result",
          "data": {
            "application/vnd.google.colaboratory.intrinsic+json": {
              "type": "string"
            },
            "text/plain": [
              "'Mr.Bob'"
            ]
          },
          "metadata": {
            "tags": []
          },
          "execution_count": 12
        }
      ]
    },
    {
      "cell_type": "markdown",
      "metadata": {
        "id": "buXfq7ke2Aqg"
      },
      "source": [
        "Boom! Simple enough right"
      ]
    },
    {
      "cell_type": "markdown",
      "metadata": {
        "id": "2cXkJEHV2YAA"
      },
      "source": [
        "### **1.3 Using Decorator on function which takes Parameter**"
      ]
    },
    {
      "cell_type": "code",
      "metadata": {
        "colab": {
          "base_uri": "https://localhost:8080/",
          "height": 35
        },
        "id": "3wxnY0TL2lxL",
        "outputId": "9075abc8-7392-4922-836e-5acf7ae13bae"
      },
      "source": [
        "# lets say our simple function \"i_am\" got upgraded and now takes a parameter 'name'\n",
        "# so it's doesn't print default name, but it's takes as an input\n",
        "def i_am(name):\n",
        "    return name\n",
        "\n",
        "i_am('John')"
      ],
      "execution_count": null,
      "outputs": [
        {
          "output_type": "execute_result",
          "data": {
            "application/vnd.google.colaboratory.intrinsic+json": {
              "type": "string"
            },
            "text/plain": [
              "'John'"
            ]
          },
          "metadata": {
            "tags": []
          },
          "execution_count": 13
        }
      ]
    },
    {
      "cell_type": "markdown",
      "metadata": {
        "id": "fjaIFh_Q3Ybi"
      },
      "source": [
        "---\n",
        "So for function like this we will need to add parameter in inner function, why?\n",
        "because if you remember when we call decorator we get inner function and we call it at the end.\n",
        "\n",
        "And inner_function is one who call our original function and since our function takes an argument so inner_function needs to  pass that argument. And to pass that argument it also need some value so it's ask for input\n",
        "\n",
        "And that's why we add parameter to inner function\n",
        "\n",
        "---"
      ]
    },
    {
      "cell_type": "code",
      "metadata": {
        "id": "kX141n_82-95"
      },
      "source": [
        "# our decorator for function with parameter\n",
        "def mr_decor(func):\n",
        "    def inner(name):  # ------------------> this is where it takes its parameter, which is actually our original function's parameter\n",
        "        return 'Mr.'+ func(name)\n",
        "    return inner"
      ],
      "execution_count": null,
      "outputs": []
    },
    {
      "cell_type": "code",
      "metadata": {
        "colab": {
          "base_uri": "https://localhost:8080/",
          "height": 35
        },
        "id": "qnTnUnfm5Y6h",
        "outputId": "d6f5abf9-57f5-42ac-8dd5-5a6040fbbffc"
      },
      "source": [
        "@mr_decor\n",
        "def i_am(name):\n",
        "    return name\n",
        "\n",
        "i_am('John')"
      ],
      "execution_count": null,
      "outputs": [
        {
          "output_type": "execute_result",
          "data": {
            "application/vnd.google.colaboratory.intrinsic+json": {
              "type": "string"
            },
            "text/plain": [
              "'Mr.John'"
            ]
          },
          "metadata": {
            "tags": []
          },
          "execution_count": 15
        }
      ]
    },
    {
      "cell_type": "code",
      "metadata": {
        "colab": {
          "base_uri": "https://localhost:8080/",
          "height": 35
        },
        "id": "LQNxTNqr5eS9",
        "outputId": "18800cb2-d7e7-4c34-8dc4-4accbf2b3bab"
      },
      "source": [
        "# Incase you want to see how it's look like to call decorator without \"@ syntax\"\n",
        "def i_am(name):\n",
        "    return name\n",
        "\n",
        "decor = mr_decor(i_am) # calling mr_decor\n",
        "decor('John') # calling inner of mr_decor function"
      ],
      "execution_count": null,
      "outputs": [
        {
          "output_type": "execute_result",
          "data": {
            "application/vnd.google.colaboratory.intrinsic+json": {
              "type": "string"
            },
            "text/plain": [
              "'Mr.John'"
            ]
          },
          "metadata": {
            "tags": []
          },
          "execution_count": 17
        }
      ]
    },
    {
      "cell_type": "markdown",
      "metadata": {
        "id": "vaUHyRm768b_"
      },
      "source": [
        "### **1.4 Decorator with it's own parameter**"
      ]
    },
    {
      "cell_type": "code",
      "metadata": {
        "colab": {
          "base_uri": "https://localhost:8080/",
          "height": 35
        },
        "id": "N7XKsTgk7K3O",
        "outputId": "35b9c64c-d455-4bca-afc4-c69c903b60a6"
      },
      "source": [
        "# our function\n",
        "def i_am(name):\n",
        "    return name\n",
        "\n",
        "i_am('John')"
      ],
      "execution_count": null,
      "outputs": [
        {
          "output_type": "execute_result",
          "data": {
            "application/vnd.google.colaboratory.intrinsic+json": {
              "type": "string"
            },
            "text/plain": [
              "'John'"
            ]
          },
          "metadata": {
            "tags": []
          },
          "execution_count": 18
        }
      ]
    },
    {
      "cell_type": "markdown",
      "metadata": {
        "id": "TAia4_WGCQWu"
      },
      "source": [
        "---\n",
        "So, in order to pass argument in decorator itself we need to create new main function which will take our input and return our decorator \n",
        "\n",
        "---"
      ]
    },
    {
      "cell_type": "code",
      "metadata": {
        "id": "fj6BaeVy7NJ9"
      },
      "source": [
        "def argument(word): # ----------------------------> new Main function (takes our argument)\n",
        "    def mr_decor(func): # --------------------> our decorator\n",
        "        def inner(name):\n",
        "            return word + func(name)\n",
        "        return inner # -----------------------> our decorator is returning inner function \n",
        "    return mr_decor # ---------------------------> our new main function returns our decorator \"mr_decor\" which will now take our function as an input"
      ],
      "execution_count": null,
      "outputs": []
    },
    {
      "cell_type": "code",
      "metadata": {
        "colab": {
          "base_uri": "https://localhost:8080/",
          "height": 35
        },
        "id": "o1KUNpAH7ejG",
        "outputId": "7d30ae65-cb48-4461-a026-c18ce449b3d1"
      },
      "source": [
        "# here we will putting our main function name \n",
        "@argument('Sir, ') # -------------------------> this is where our decorator will take it's input\n",
        "def i_am(name):\n",
        "    return name\n",
        "\n",
        "i_am('John')"
      ],
      "execution_count": null,
      "outputs": [
        {
          "output_type": "execute_result",
          "data": {
            "application/vnd.google.colaboratory.intrinsic+json": {
              "type": "string"
            },
            "text/plain": [
              "'Sir, John'"
            ]
          },
          "metadata": {
            "tags": []
          },
          "execution_count": 3
        }
      ]
    },
    {
      "cell_type": "code",
      "metadata": {
        "id": "aMvArvbs7nFL"
      },
      "source": [
        ""
      ],
      "execution_count": null,
      "outputs": []
    },
    {
      "cell_type": "markdown",
      "metadata": {
        "id": "KJezqQTNrjbI"
      },
      "source": [
        "### **1.5 Chaining Decorator**"
      ]
    },
    {
      "cell_type": "markdown",
      "metadata": {
        "id": "sVM5kLPdzE9W"
      },
      "source": [
        "Our function"
      ]
    },
    {
      "cell_type": "code",
      "metadata": {
        "colab": {
          "base_uri": "https://localhost:8080/",
          "height": 35
        },
        "id": "o2PCcphaywl1",
        "outputId": "70f45ee5-784c-4da9-e31f-02048e49b001"
      },
      "source": [
        "# this is our simple function which returns a name\n",
        "def i_am(name):\n",
        "    return name\n",
        "i_am('Bob')"
      ],
      "execution_count": null,
      "outputs": [
        {
          "output_type": "execute_result",
          "data": {
            "application/vnd.google.colaboratory.intrinsic+json": {
              "type": "string"
            },
            "text/plain": [
              "'Bob'"
            ]
          },
          "metadata": {
            "tags": []
          },
          "execution_count": 9
        }
      ]
    },
    {
      "cell_type": "markdown",
      "metadata": {
        "id": "kKSuybFZyatX"
      },
      "source": [
        "This is our Decorators"
      ]
    },
    {
      "cell_type": "code",
      "metadata": {
        "id": "CD3DrApyD_yo"
      },
      "source": [
        "def hi_decor(func): # ---------------------------------------------> second decorator\n",
        "    \"\"\"It will applied after 'mr_decor' and it will \n",
        "    prefix our original function's output with 'Hi,' \"\"\"\n",
        "    def inner(name):\n",
        "        return \"Hi \"+ func(name)\n",
        "    return inner\n",
        "\n",
        "def mr_decor(func): # ---------------------------------------------> first decorator\n",
        "    \"\"\"It will applied first and it will prefix our \n",
        "    original function's output with 'Mr.' \"\"\"\n",
        "    def wrapper(name):\n",
        "        return \"Mr. \"+  func(name)\n",
        "    return wrapper"
      ],
      "execution_count": null,
      "outputs": []
    },
    {
      "cell_type": "markdown",
      "metadata": {
        "id": "6ghlyZIdzIfU"
      },
      "source": [
        "---\n",
        "Okay now it's time to use both decorators, I will be showing this in two ways\n",
        "<br/>I am doing this to show you how it's calling each other\n",
        "* Our old styles (without '@' syntax)\n",
        "* New style (with '@' syntax)\n",
        "\n",
        "---"
      ]
    },
    {
      "cell_type": "code",
      "metadata": {
        "id": "mPMCO3zViN4J"
      },
      "source": [
        "# without using \"@ syntax\"\n",
        "def i_am(name):\n",
        "    return name\n",
        "\n",
        "# calling funtion\n",
        "mr = mr_decor(i_am) # ---------------> calling \"mr_decor\" and passing \"i_am\" (as an object) which will return inner function\n",
        "hi = hi_decor(mr) # ------------> calling \"hi_decor\" and passing mr which is storing inner function (which will return \"Mr. name\") and it will return wrapper function\n",
        "hi('Kelly') # -------------> calling wrapper function with it's argument"
      ],
      "execution_count": null,
      "outputs": []
    },
    {
      "cell_type": "code",
      "metadata": {
        "id": "bk0-ePvTiDUJ"
      },
      "source": [
        "# with using \"@ syntax\"\n",
        "@hi_decor   # ---------------------------------> this will be applied last\n",
        "@mr_decor   # -----------------------> this will be applied first \n",
        "def i_am(name):\n",
        "    return name\n",
        "\n",
        "print(i_am('John'))"
      ],
      "execution_count": null,
      "outputs": []
    }
  ]
}