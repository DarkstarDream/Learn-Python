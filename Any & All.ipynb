{
 "cells": [
  {
   "cell_type": "markdown",
   "source": [
    "### **Any All in python**\r\n",
    "`Any` and `All` is a python conditional function which checks the sequence of condition and comes up to a conclusion"
   ],
   "metadata": {}
  },
  {
   "cell_type": "code",
   "execution_count": 25,
   "source": [
    "# dummy example\r\n",
    "a = []\r\n",
    "b = [0,0,0,0]\r\n",
    "c = [1,1,1,1]\r\n",
    "d = b+c\r\n",
    "e = [False, False, False]\r\n",
    "f = [True, True, True]\r\n",
    "g = e+f\r\n",
    "h  =[1,2,'anything']\r\n",
    "\r\n",
    "conditions = [a, b, c, d, e, f, g, h]"
   ],
   "outputs": [],
   "metadata": {}
  },
  {
   "cell_type": "markdown",
   "source": [
    "#### **Any**\r\n",
    "Returns true if any of the items is True. \r\n",
    "It returns \r\n",
    "* `False` if the iterable is empty\r\n",
    "* `False` if all values are 0\r\n",
    "* `False` if all values are false\r\n",
    "\r\n",
    "* `True` if iterable have any non-zero and non-False value\r\n",
    "\r\n",
    "> Any can be thought of as a sequence of `OR` operations on the provided iterables.\r\n",
    "\r\n",
    "**Syntax:** `any(iterable)`"
   ],
   "metadata": {}
  },
  {
   "cell_type": "code",
   "execution_count": 26,
   "source": [
    "# let's test it on various condition\r\n",
    "for i in conditions:\r\n",
    "    print(f\"Output of {i}: {any(i)}\")"
   ],
   "outputs": [
    {
     "output_type": "stream",
     "name": "stdout",
     "text": [
      "Output of []: False\n",
      "Output of [0, 0, 0, 0]: False\n",
      "Output of [1, 1, 1, 1]: True\n",
      "Output of [0, 0, 0, 0, 1, 1, 1, 1]: True\n",
      "Output of [False, False, False]: False\n",
      "Output of [True, True, True]: True\n",
      "Output of [False, False, False, True, True, True]: True\n",
      "Output of [1, 2, 'anything']: True\n"
     ]
    }
   ],
   "metadata": {}
  },
  {
   "cell_type": "markdown",
   "source": [
    "#### **All**\r\n",
    "Return `True` if all the value of the iterable is `True` else `False`\r\n",
    "* `False` if the iterable is empty\r\n",
    "* `False` if any values is 0\r\n",
    "* `False` if any values is false\r\n",
    "* `True` if all the values is 1 or true\r\n",
    "> Any can be thought of as a sequence of `AND` operations on the provided iterables.\r\n",
    "\r\n",
    "**Syntax:** `all(iterable)`"
   ],
   "metadata": {}
  },
  {
   "cell_type": "code",
   "execution_count": 27,
   "source": [
    "# let's test it on various condition\r\n",
    "for i in conditions:\r\n",
    "    print(f\"Output of {i}: {all(i)}\")"
   ],
   "outputs": [
    {
     "output_type": "stream",
     "name": "stdout",
     "text": [
      "Output of []: True\n",
      "Output of [0, 0, 0, 0]: False\n",
      "Output of [1, 1, 1, 1]: True\n",
      "Output of [0, 0, 0, 0, 1, 1, 1, 1]: False\n",
      "Output of [False, False, False]: False\n",
      "Output of [True, True, True]: True\n",
      "Output of [False, False, False, True, True, True]: False\n",
      "Output of [1, 2, 'anything']: True\n"
     ]
    }
   ],
   "metadata": {}
  },
  {
   "cell_type": "markdown",
   "source": [],
   "metadata": {}
  }
 ],
 "metadata": {
  "orig_nbformat": 4,
  "language_info": {
   "name": "python"
  }
 },
 "nbformat": 4,
 "nbformat_minor": 2
}