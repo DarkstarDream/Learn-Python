{
 "cells": [
  {
   "cell_type": "markdown",
   "source": [
    "### **Try, Except, Else, & Finally**\r\n",
    "Try and except is used for handling errors. Generally what happens is when we run some code and it gets any error then our program stop running. So to avoid that we use `try and except` clause where we suspect the error could happen and we then can handle it without affecting the execution of other part of our program."
   ],
   "metadata": {}
  },
  {
   "cell_type": "markdown",
   "source": [
    "#### **Try and Except**\r\n",
    "Try and except helps us skip the error. We put the suspected code which can encouter any error in the `try` block and in the `except` block catch the error if encountered and perform any operation on it like printing the encountered error or printing the custom error\r\n",
    "\r\n",
    "For example let's suppose we have created a division function, which divides two numbers, and to protect it from getting `ZeroDivisionError` we can use `try` and `except` clause."
   ],
   "metadata": {}
  },
  {
   "cell_type": "code",
   "execution_count": 5,
   "source": [
    "lst = [12, 20, 11, 19, 14, 0, 9, 6]\r\n",
    "\r\n",
    "try:\r\n",
    "    result = []\r\n",
    "    for i in lst:\r\n",
    "        result.append(100/i)\r\n",
    "except ZeroDivisionError:\r\n",
    "    print('Please avoid 0 as divisor')\r\n"
   ],
   "outputs": [
    {
     "output_type": "stream",
     "name": "stdout",
     "text": [
      "Please avoid 0 as divisor\n"
     ]
    }
   ],
   "metadata": {}
  },
  {
   "cell_type": "markdown",
   "source": [
    "#### **Else**\r\n",
    "We can also add else block with our try and except clause. It is only executed if the except clause is not executed. In another words if the try clause works fine then else clause is executed."
   ],
   "metadata": {}
  },
  {
   "cell_type": "code",
   "execution_count": 7,
   "source": [
    "lst1 = [12, 20, 11, 19, 14, 10, 9, 6]\r\n",
    "\r\n",
    "try:\r\n",
    "    result = []\r\n",
    "    for i in lst1:\r\n",
    "        result.append(100/i)\r\n",
    "except ZeroDivisionError:\r\n",
    "    print('Please avoid 0 as divisor')\r\n",
    "else:\r\n",
    "    print(result)"
   ],
   "outputs": [
    {
     "output_type": "stream",
     "name": "stdout",
     "text": [
      "[8.333333333333334, 5.0, 9.090909090909092, 5.2631578947368425, 7.142857142857143, 10.0, 11.11111111111111, 16.666666666666668]\n"
     ]
    }
   ],
   "metadata": {}
  },
  {
   "cell_type": "code",
   "execution_count": 9,
   "source": [
    "# Else clause will not have executed, if it would have encounterd any error\r\n",
    "# let's try this with our lst examlpe\r\n",
    "\r\n",
    "try:\r\n",
    "    result = []\r\n",
    "    for i in lst:\r\n",
    "        result.append(100/i)\r\n",
    "except ZeroDivisionError:\r\n",
    "    print('Please avoid 0 as divisor')\r\n",
    "else:\r\n",
    "    print(result)"
   ],
   "outputs": [
    {
     "output_type": "stream",
     "name": "stdout",
     "text": [
      "Please avoid 0 as divisor\n"
     ]
    }
   ],
   "metadata": {}
  },
  {
   "cell_type": "code",
   "execution_count": 14,
   "source": [
    "try:\r\n",
    "    a = b\r\n",
    "except NameError as a:\r\n",
    "    print(a)"
   ],
   "outputs": [
    {
     "output_type": "stream",
     "name": "stdout",
     "text": [
      "name 'b' is not defined\n"
     ]
    }
   ],
   "metadata": {}
  },
  {
   "cell_type": "code",
   "execution_count": 16,
   "source": [
    "# custom message\r\n",
    "try:\r\n",
    "    a = b\r\n",
    "except NameError:\r\n",
    "    print('one of variable is not defined')"
   ],
   "outputs": [
    {
     "output_type": "stream",
     "name": "stdout",
     "text": [
      "one of variable is not defined\n"
     ]
    }
   ],
   "metadata": {}
  },
  {
   "cell_type": "markdown",
   "source": [
    "#### **Handling Multiple Error**\r\n",
    "Multiple error can be either be handled by putting it in tuple or by adding multilpe except clause"
   ],
   "metadata": {}
  },
  {
   "cell_type": "code",
   "execution_count": 20,
   "source": [
    "try:\r\n",
    "    a = 5\r\n",
    "    c = 0\r\n",
    "    result = a/c\r\n",
    "    result = d\r\n",
    "except (ZeroDivisionError, NameError):\r\n",
    "    print('Something went wrong')"
   ],
   "outputs": [
    {
     "output_type": "stream",
     "name": "stdout",
     "text": [
      "Something went wrong\n"
     ]
    }
   ],
   "metadata": {}
  },
  {
   "cell_type": "code",
   "execution_count": 19,
   "source": [
    "try:\r\n",
    "    a = 5\r\n",
    "    c = 0\r\n",
    "    result = a/c\r\n",
    "    result = d\r\n",
    "except NameError:\r\n",
    "    print('NameError')\r\n",
    "except (ZeroDivisionError):\r\n",
    "    print('ZeroDivisionError')"
   ],
   "outputs": [
    {
     "output_type": "stream",
     "name": "stdout",
     "text": [
      "ZeroDivisionError\n"
     ]
    }
   ],
   "metadata": {}
  },
  {
   "cell_type": "markdown",
   "source": [
    "#### **Handling Unknown Error**\r\n",
    "If we don't know what error we could encounter then we could use more generalized error class that is `Exception` which can handle all error. Also we should always put the `Exception` error class at the end of all other error as it will catch specified error which you may want to catch as well."
   ],
   "metadata": {}
  },
  {
   "cell_type": "code",
   "execution_count": 21,
   "source": [
    "try:\r\n",
    "    result = []\r\n",
    "    for i in lst:\r\n",
    "        result.append(100/i)\r\n",
    "    z = h\r\n",
    "except ZeroDivisionError:\r\n",
    "    print('Please avoid 0 as divisor')\r\n",
    "except Exception as e:\r\n",
    "    print('Something went wrong')\r\n",
    "else:\r\n",
    "    print(result)"
   ],
   "outputs": [
    {
     "output_type": "stream",
     "name": "stdout",
     "text": [
      "Please avoid 0 as divisor\n"
     ]
    }
   ],
   "metadata": {}
  },
  {
   "cell_type": "markdown",
   "source": [
    "#### **Finally Clause**\r\n",
    "In the Finally clause we put the statement which we want to be executed at any case of error handling. For eg suppose you are dealing with database and after connecting to it in try clause some error occured. To avoid data corruption, you want to disconnect the connected database. In that case else clause will not be executed so, we can use Finally clause . "
   ],
   "metadata": {}
  },
  {
   "cell_type": "code",
   "execution_count": 22,
   "source": [
    "try:\r\n",
    "    result = []\r\n",
    "    for i in lst:\r\n",
    "        result.append(100/i)\r\n",
    "    z = h\r\n",
    "except ZeroDivisionError:\r\n",
    "    print('Please avoid 0 as divisor')\r\n",
    "except Exception as e:\r\n",
    "    print('Something went wrong')\r\n",
    "else:\r\n",
    "    print(result)\r\n",
    "finally:\r\n",
    "    print('Task')"
   ],
   "outputs": [
    {
     "output_type": "stream",
     "name": "stdout",
     "text": [
      "Please avoid 0 as divisor\n",
      "Task Completed\n"
     ]
    }
   ],
   "metadata": {}
  },
  {
   "cell_type": "markdown",
   "source": [
    "#### We have various other [error](https://docs.python.org/2/library/exceptions.html#exception-hierarchy)\r\n",
    "```\r\n",
    "BaseException\r\n",
    " +-- SystemExit\r\n",
    " +-- KeyboardInterrupt\r\n",
    " +-- GeneratorExit\r\n",
    " +-- Exception\r\n",
    "      +-- StopIteration\r\n",
    "      +-- StandardError\r\n",
    "      |    +-- BufferError\r\n",
    "      |    +-- ArithmeticError\r\n",
    "      |    |    +-- FloatingPointError\r\n",
    "      |    |    +-- OverflowError\r\n",
    "      |    |    +-- ZeroDivisionError\r\n",
    "      |    +-- AssertionError\r\n",
    "      |    +-- AttributeError\r\n",
    "      |    +-- EnvironmentError\r\n",
    "      |    |    +-- IOError\r\n",
    "      |    |    +-- OSError\r\n",
    "      |    |         +-- WindowsError (Windows)\r\n",
    "      |    |         +-- VMSError (VMS)\r\n",
    "      |    +-- EOFError\r\n",
    "      |    +-- ImportError\r\n",
    "      |    +-- LookupError\r\n",
    "      |    |    +-- IndexError\r\n",
    "      |    |    +-- KeyError\r\n",
    "      |    +-- MemoryError\r\n",
    "      |    +-- NameError\r\n",
    "      |    |    +-- UnboundLocalError\r\n",
    "      |    +-- ReferenceError\r\n",
    "      |    +-- RuntimeError\r\n",
    "      |    |    +-- NotImplementedError\r\n",
    "      |    +-- SyntaxError\r\n",
    "      |    |    +-- IndentationError\r\n",
    "      |    |         +-- TabError\r\n",
    "      |    +-- SystemError\r\n",
    "      |    +-- TypeError\r\n",
    "      |    +-- ValueError\r\n",
    "      |         +-- UnicodeError\r\n",
    "      |              +-- UnicodeDecodeError\r\n",
    "      |              +-- UnicodeEncodeError\r\n",
    "      |              +-- UnicodeTranslateError\r\n",
    "      +-- Warning\r\n",
    "           +-- DeprecationWarning\r\n",
    "           +-- PendingDeprecationWarning\r\n",
    "           +-- RuntimeWarning\r\n",
    "           +-- SyntaxWarning\r\n",
    "           +-- UserWarning\r\n",
    "           +-- FutureWarning\r\n",
    "\t   +-- ImportWarning\r\n",
    "\t   +-- UnicodeWarning\r\n",
    "\t   +-- BytesWarning\r\n",
    "\r\n",
    "```\r\n"
   ],
   "metadata": {}
  },
  {
   "cell_type": "markdown",
   "source": [],
   "metadata": {}
  }
 ],
 "metadata": {
  "orig_nbformat": 4,
  "language_info": {
   "name": "python"
  }
 },
 "nbformat": 4,
 "nbformat_minor": 2
}